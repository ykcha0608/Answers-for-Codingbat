{
 "cells": [
  {
   "cell_type": "markdown",
   "id": "8e88ca31",
   "metadata": {},
   "source": [
    "# Python Practice"
   ]
  },
  {
   "cell_type": "code",
   "execution_count": null,
   "id": "c2a1fe4f",
   "metadata": {},
   "outputs": [],
   "source": [
    "# How to pring 2,4,6,8 \n",
    "count = 0\n",
    "for number in range(1,10):\n",
    "    if number % 2 == 0:\n",
    "        count += 1\n",
    "        print(number)\n",
    "        \n",
    "print(f'We have {count} even numbers')"
   ]
  },
  {
   "cell_type": "code",
   "execution_count": 1,
   "id": "7bc032aa",
   "metadata": {},
   "outputs": [
    {
     "name": "stdout",
     "output_type": "stream",
     "text": [
      "2\n",
      "4\n",
      "6\n",
      "8\n",
      "We have 4 even numbers\n"
     ]
    }
   ],
   "source": [
    "count = 0\n",
    "for number in range(1,10):\n",
    "    if number % 2 == 0:\n",
    "        count += 1\n",
    "        print(number)\n",
    "        \n",
    "print(f'We have {count} even numbers')"
   ]
  },
  {
   "cell_type": "code",
   "execution_count": 2,
   "id": "a62a2d4e",
   "metadata": {
    "scrolled": true
   },
   "outputs": [
    {
     "ename": "SyntaxError",
     "evalue": "invalid syntax (Temp/ipykernel_24184/2830201818.py, line 1)",
     "output_type": "error",
     "traceback": [
      "\u001b[1;36m  File \u001b[1;32m\"C:\\Users\\차유경\\AppData\\Local\\Temp/ipykernel_24184/2830201818.py\"\u001b[1;36m, line \u001b[1;32m1\u001b[0m\n\u001b[1;33m    git init\u001b[0m\n\u001b[1;37m        ^\u001b[0m\n\u001b[1;31mSyntaxError\u001b[0m\u001b[1;31m:\u001b[0m invalid syntax\n"
     ]
    }
   ],
   "source": [
    "git init"
   ]
  },
  {
   "cell_type": "code",
   "execution_count": 13,
   "id": "b76d93e9",
   "metadata": {},
   "outputs": [],
   "source": [
    "def sleep_in(weekday, vacation):\n",
    "    if weekday == False or vacation == True:\n",
    "        return True\n",
    "    else:\n",
    "        return False"
   ]
  },
  {
   "cell_type": "code",
   "execution_count": 14,
   "id": "18dea07f",
   "metadata": {},
   "outputs": [],
   "source": [
    "def sleep_in(weekday, vacation):\n",
    "    if not weekday or vacation:\n",
    "        return True\n",
    "    else:\n",
    "        return False"
   ]
  },
  {
   "cell_type": "code",
   "execution_count": null,
   "id": "4fd9b29c",
   "metadata": {},
   "outputs": [],
   "source": [
    "s = 'hi'\n",
    "\n",
    "print(int(input('How many times?: ')))\n",
    "n = input()\n",
    "print('s*n')"
   ]
  },
  {
   "cell_type": "code",
   "execution_count": null,
   "id": "1f51558f",
   "metadata": {},
   "outputs": [],
   "source": [
    "int(input('How many times?: '))\n",
    "n = input()\n",
    "print('Hi'*n)"
   ]
  },
  {
   "cell_type": "code",
   "execution_count": null,
   "id": "e018ff47",
   "metadata": {},
   "outputs": [],
   "source": [
    "def string_times(str, n):\n",
    "    return str*n\n",
    "\n",
    "string_times('Hi', 4)"
   ]
  },
  {
   "cell_type": "code",
   "execution_count": null,
   "id": "5c306b02",
   "metadata": {},
   "outputs": [],
   "source": [
    "def hello_name(name):\n",
    "    return "
   ]
  },
  {
   "cell_type": "code",
   "execution_count": 7,
   "id": "84fa1430",
   "metadata": {},
   "outputs": [
    {
     "data": {
      "text/plain": [
       "True"
      ]
     },
     "execution_count": 7,
     "metadata": {},
     "output_type": "execute_result"
    }
   ],
   "source": [
    "def first_last6(nums):\n",
    "    if nums[0] == 6 or nums[-1] == 6:\n",
    "        return True\n",
    "    else :\n",
    "        return False\n",
    "\n",
    "first_last6([6,2,3])"
   ]
  },
  {
   "cell_type": "code",
   "execution_count": 8,
   "id": "d77915c8",
   "metadata": {},
   "outputs": [
    {
     "name": "stdout",
     "output_type": "stream",
     "text": [
      "AABBCC\n"
     ]
    }
   ],
   "source": [
    "given = 'ABC'\n",
    "to_return = ''\n",
    "for c in given:\n",
    "    to_return += c*2\n",
    "    \n",
    "print(to_return)"
   ]
  },
  {
   "cell_type": "code",
   "execution_count": 17,
   "id": "122180ba",
   "metadata": {},
   "outputs": [
    {
     "data": {
      "text/plain": [
       "'aabbcc'"
      ]
     },
     "execution_count": 17,
     "metadata": {},
     "output_type": "execute_result"
    }
   ],
   "source": [
    "def double_char(str):\n",
    "    to_return = ''\n",
    "    for c in str:\n",
    "        to_return += c*2\n",
    "    return to_return\n",
    "\n",
    "double_char('abc')      "
   ]
  },
  {
   "cell_type": "code",
   "execution_count": 22,
   "id": "41d6b405",
   "metadata": {},
   "outputs": [
    {
     "data": {
      "text/plain": [
       "2"
      ]
     },
     "execution_count": 22,
     "metadata": {},
     "output_type": "execute_result"
    }
   ],
   "source": [
    "def count_evens(nums):\n",
    "    count = 0\n",
    "    for x in nums:\n",
    "        if x % 2 == 0:\n",
    "            count += 1\n",
    "    return count\n",
    "\n",
    "count_evens([1,3,4,2,21])"
   ]
  },
  {
   "cell_type": "code",
   "execution_count": null,
   "id": "5e6a32f1",
   "metadata": {},
   "outputs": [],
   "source": [
    "# cigar_party\n",
    "\n",
    "def cigar_party(cigars, is_weekend):\n",
    "  if is_weekend:\n",
    "    return cigars >= 40\n",
    "  \n",
    "  else:\n",
    "    return cigars >= 40 and cigars <= 60"
   ]
  },
  {
   "cell_type": "code",
   "execution_count": null,
   "id": "bf74c519",
   "metadata": {},
   "outputs": [],
   "source": [
    "# monkey_trouble\n",
    "\n",
    "def monkey_trouble(a_smile, b_smile):\n",
    "    if a_smile = True and b_smile = True:\n",
    "        return True\n",
    "    elif a_smile = False and b_smile = False:\n",
    "        return True\n",
    "    else:\n",
    "        return False\n",
    "    \n"
   ]
  },
  {
   "cell_type": "code",
   "execution_count": 1,
   "id": "fbb4c551",
   "metadata": {},
   "outputs": [],
   "source": [
    "#in1to10\n",
    "def in1to10(n, outside_mode):\n",
    "  if outside_mode == False:\n",
    "   if n >= 1 and n <= 10:\n",
    "    return True\n",
    "   else: \n",
    "    return False\n",
    "  if outside_mode == True:\n",
    "    if n <= 1 or n>= 10 :\n",
    "      return True\n",
    "    else:\n",
    "      return False"
   ]
  },
  {
   "cell_type": "code",
   "execution_count": 2,
   "id": "dd884faa",
   "metadata": {},
   "outputs": [
    {
     "data": {
      "text/plain": [
       "True"
      ]
     },
     "execution_count": 2,
     "metadata": {},
     "output_type": "execute_result"
    }
   ],
   "source": [
    "in1to10(1, False)"
   ]
  },
  {
   "cell_type": "code",
   "execution_count": 8,
   "id": "da925abc",
   "metadata": {},
   "outputs": [
    {
     "data": {
      "text/plain": [
       "0"
      ]
     },
     "execution_count": 8,
     "metadata": {},
     "output_type": "execute_result"
    }
   ],
   "source": [
    "def fix_teen(n):\n",
    "  if n >= 13 or n <= 14:\n",
    "    return 0\n",
    "  if n >= 17 and n <= 19:\n",
    "    return 0\n",
    "  return n\n",
    "\n",
    "fix_teen(2)"
   ]
  },
  {
   "cell_type": "code",
   "execution_count": 9,
   "id": "58319b77",
   "metadata": {},
   "outputs": [
    {
     "data": {
      "text/plain": [
       "2"
      ]
     },
     "execution_count": 9,
     "metadata": {},
     "output_type": "execute_result"
    }
   ],
   "source": [
    "def fix_teen(n):\n",
    "  if n == 13 or n == 14:\n",
    "    return 0\n",
    "  elif n >= 17 and n <= 19:\n",
    "    return 0\n",
    "  return n\n",
    "\n",
    "fix_teen(2)"
   ]
  }
 ],
 "metadata": {
  "kernelspec": {
   "display_name": "Python 3 (ipykernel)",
   "language": "python",
   "name": "python3"
  },
  "language_info": {
   "codemirror_mode": {
    "name": "ipython",
    "version": 3
   },
   "file_extension": ".py",
   "mimetype": "text/x-python",
   "name": "python",
   "nbconvert_exporter": "python",
   "pygments_lexer": "ipython3",
   "version": "3.8.12"
  }
 },
 "nbformat": 4,
 "nbformat_minor": 5
}
